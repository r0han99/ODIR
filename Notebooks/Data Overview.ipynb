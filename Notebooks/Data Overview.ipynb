{
 "cells": [
  {
   "cell_type": "code",
   "execution_count": 2,
   "id": "lesbian-intake",
   "metadata": {},
   "outputs": [],
   "source": [
    "import pandas as pd \n",
    "import re\n",
    "import numpy as np\n",
    "import seaborn as sns\n",
    "import matplotlib.pyplot as plt\n",
    "plt.style.use('seaborn-whitegrid')\n",
    "from PIL import Image"
   ]
  },
  {
   "cell_type": "code",
   "execution_count": 4,
   "id": "welcome-excellence",
   "metadata": {},
   "outputs": [
    {
     "data": {
      "text/html": [
       "<div>\n",
       "<style scoped>\n",
       "    .dataframe tbody tr th:only-of-type {\n",
       "        vertical-align: middle;\n",
       "    }\n",
       "\n",
       "    .dataframe tbody tr th {\n",
       "        vertical-align: top;\n",
       "    }\n",
       "\n",
       "    .dataframe thead th {\n",
       "        text-align: right;\n",
       "    }\n",
       "</style>\n",
       "<table border=\"1\" class=\"dataframe\">\n",
       "  <thead>\n",
       "    <tr style=\"text-align: right;\">\n",
       "      <th></th>\n",
       "      <th>ID</th>\n",
       "      <th>Patient Age</th>\n",
       "      <th>Patient Sex</th>\n",
       "      <th>Left-Fundus</th>\n",
       "      <th>Right-Fundus</th>\n",
       "      <th>Left-Diagnostic Keywords</th>\n",
       "      <th>Right-Diagnostic Keywords</th>\n",
       "      <th>Normal</th>\n",
       "      <th>Diabetes</th>\n",
       "      <th>Glaucoma</th>\n",
       "      <th>Cataract</th>\n",
       "      <th>Age</th>\n",
       "      <th>Hypertension</th>\n",
       "      <th>Pathological</th>\n",
       "      <th>Other</th>\n",
       "      <th>filepath</th>\n",
       "      <th>filename</th>\n",
       "      <th>Labels</th>\n",
       "      <th>Diagnosis</th>\n",
       "      <th>Count</th>\n",
       "    </tr>\n",
       "  </thead>\n",
       "  <tbody>\n",
       "    <tr>\n",
       "      <th>0</th>\n",
       "      <td>0</td>\n",
       "      <td>69</td>\n",
       "      <td>Female</td>\n",
       "      <td>0_left.jpg</td>\n",
       "      <td>0_right.jpg</td>\n",
       "      <td>cataract</td>\n",
       "      <td>normal fundus</td>\n",
       "      <td>0</td>\n",
       "      <td>0</td>\n",
       "      <td>0</td>\n",
       "      <td>1</td>\n",
       "      <td>0</td>\n",
       "      <td>0</td>\n",
       "      <td>0</td>\n",
       "      <td>0</td>\n",
       "      <td>../ODIR-data/ODIR-5K/ODIR-5K/Training Images/0...</td>\n",
       "      <td>0_right.jpg</td>\n",
       "      <td>['C']</td>\n",
       "      <td>['Cataract']</td>\n",
       "      <td>1</td>\n",
       "    </tr>\n",
       "    <tr>\n",
       "      <th>1</th>\n",
       "      <td>0</td>\n",
       "      <td>69</td>\n",
       "      <td>Female</td>\n",
       "      <td>0_left.jpg</td>\n",
       "      <td>0_right.jpg</td>\n",
       "      <td>cataract</td>\n",
       "      <td>normal fundus</td>\n",
       "      <td>0</td>\n",
       "      <td>0</td>\n",
       "      <td>0</td>\n",
       "      <td>1</td>\n",
       "      <td>0</td>\n",
       "      <td>0</td>\n",
       "      <td>0</td>\n",
       "      <td>0</td>\n",
       "      <td>../ODIR-data/ODIR-5K/ODIR-5K/Training Images/0...</td>\n",
       "      <td>0_left.jpg</td>\n",
       "      <td>['C']</td>\n",
       "      <td>['Cataract']</td>\n",
       "      <td>1</td>\n",
       "    </tr>\n",
       "    <tr>\n",
       "      <th>2</th>\n",
       "      <td>1</td>\n",
       "      <td>57</td>\n",
       "      <td>Male</td>\n",
       "      <td>1_left.jpg</td>\n",
       "      <td>1_right.jpg</td>\n",
       "      <td>normal fundus</td>\n",
       "      <td>normal fundus</td>\n",
       "      <td>1</td>\n",
       "      <td>0</td>\n",
       "      <td>0</td>\n",
       "      <td>0</td>\n",
       "      <td>0</td>\n",
       "      <td>0</td>\n",
       "      <td>0</td>\n",
       "      <td>0</td>\n",
       "      <td>../ODIR-data/ODIR-5K/ODIR-5K/Training Images/1...</td>\n",
       "      <td>1_left.jpg</td>\n",
       "      <td>['N']</td>\n",
       "      <td>['Normal']</td>\n",
       "      <td>1</td>\n",
       "    </tr>\n",
       "    <tr>\n",
       "      <th>3</th>\n",
       "      <td>1</td>\n",
       "      <td>57</td>\n",
       "      <td>Male</td>\n",
       "      <td>1_left.jpg</td>\n",
       "      <td>1_right.jpg</td>\n",
       "      <td>normal fundus</td>\n",
       "      <td>normal fundus</td>\n",
       "      <td>1</td>\n",
       "      <td>0</td>\n",
       "      <td>0</td>\n",
       "      <td>0</td>\n",
       "      <td>0</td>\n",
       "      <td>0</td>\n",
       "      <td>0</td>\n",
       "      <td>0</td>\n",
       "      <td>../ODIR-data/ODIR-5K/ODIR-5K/Training Images/1...</td>\n",
       "      <td>1_right.jpg</td>\n",
       "      <td>['N']</td>\n",
       "      <td>['Normal']</td>\n",
       "      <td>1</td>\n",
       "    </tr>\n",
       "    <tr>\n",
       "      <th>4</th>\n",
       "      <td>2</td>\n",
       "      <td>42</td>\n",
       "      <td>Male</td>\n",
       "      <td>2_left.jpg</td>\n",
       "      <td>2_right.jpg</td>\n",
       "      <td>laser spot，moderate non proliferative retinopathy</td>\n",
       "      <td>moderate non proliferative retinopathy</td>\n",
       "      <td>0</td>\n",
       "      <td>1</td>\n",
       "      <td>0</td>\n",
       "      <td>0</td>\n",
       "      <td>0</td>\n",
       "      <td>0</td>\n",
       "      <td>0</td>\n",
       "      <td>1</td>\n",
       "      <td>../ODIR-data/ODIR-5K/ODIR-5K/Training Images/2...</td>\n",
       "      <td>2_right.jpg</td>\n",
       "      <td>['D', 'O']</td>\n",
       "      <td>['Diabetes', 'Other']</td>\n",
       "      <td>2</td>\n",
       "    </tr>\n",
       "  </tbody>\n",
       "</table>\n",
       "</div>"
      ],
      "text/plain": [
       "   ID  Patient Age Patient Sex Left-Fundus Right-Fundus  \\\n",
       "0   0           69      Female  0_left.jpg  0_right.jpg   \n",
       "1   0           69      Female  0_left.jpg  0_right.jpg   \n",
       "2   1           57        Male  1_left.jpg  1_right.jpg   \n",
       "3   1           57        Male  1_left.jpg  1_right.jpg   \n",
       "4   2           42        Male  2_left.jpg  2_right.jpg   \n",
       "\n",
       "                            Left-Diagnostic Keywords  \\\n",
       "0                                           cataract   \n",
       "1                                           cataract   \n",
       "2                                      normal fundus   \n",
       "3                                      normal fundus   \n",
       "4  laser spot，moderate non proliferative retinopathy   \n",
       "\n",
       "                Right-Diagnostic Keywords  Normal  Diabetes  Glaucoma  \\\n",
       "0                           normal fundus       0         0         0   \n",
       "1                           normal fundus       0         0         0   \n",
       "2                           normal fundus       1         0         0   \n",
       "3                           normal fundus       1         0         0   \n",
       "4  moderate non proliferative retinopathy       0         1         0   \n",
       "\n",
       "   Cataract  Age  Hypertension  Pathological  Other  \\\n",
       "0         1    0             0             0      0   \n",
       "1         1    0             0             0      0   \n",
       "2         0    0             0             0      0   \n",
       "3         0    0             0             0      0   \n",
       "4         0    0             0             0      1   \n",
       "\n",
       "                                            filepath     filename      Labels  \\\n",
       "0  ../ODIR-data/ODIR-5K/ODIR-5K/Training Images/0...  0_right.jpg       ['C']   \n",
       "1  ../ODIR-data/ODIR-5K/ODIR-5K/Training Images/0...   0_left.jpg       ['C']   \n",
       "2  ../ODIR-data/ODIR-5K/ODIR-5K/Training Images/1...   1_left.jpg       ['N']   \n",
       "3  ../ODIR-data/ODIR-5K/ODIR-5K/Training Images/1...  1_right.jpg       ['N']   \n",
       "4  ../ODIR-data/ODIR-5K/ODIR-5K/Training Images/2...  2_right.jpg  ['D', 'O']   \n",
       "\n",
       "               Diagnosis  Count  \n",
       "0           ['Cataract']      1  \n",
       "1           ['Cataract']      1  \n",
       "2             ['Normal']      1  \n",
       "3             ['Normal']      1  \n",
       "4  ['Diabetes', 'Other']      2  "
      ]
     },
     "execution_count": 4,
     "metadata": {},
     "output_type": "execute_result"
    }
   ],
   "source": [
    "# paths\n",
    "metadf = pd.read_csv('metadata.csv').drop('Unnamed: 0',axis=1)\n",
    "metadf.head()"
   ]
  },
  {
   "cell_type": "code",
   "execution_count": 22,
   "id": "convertible-improvement",
   "metadata": {},
   "outputs": [
    {
     "data": {
      "text/plain": [
       "['ID',\n",
       " 'Patient Age',\n",
       " 'Patient Sex',\n",
       " 'Left-Fundus',\n",
       " 'Right-Fundus',\n",
       " 'Left-Diagnostic Keywords',\n",
       " 'Right-Diagnostic Keywords',\n",
       " 'N',\n",
       " 'D',\n",
       " 'G',\n",
       " 'C',\n",
       " 'A',\n",
       " 'H',\n",
       " 'M',\n",
       " 'O',\n",
       " 'filepath',\n",
       " 'labels',\n",
       " 'target',\n",
       " 'filename']"
      ]
     },
     "execution_count": 22,
     "metadata": {},
     "output_type": "execute_result"
    }
   ],
   "source": [
    "# basic stats\n",
    "cols = metadf.columns.to_list()\n",
    "cols"
   ]
  },
  {
   "cell_type": "markdown",
   "id": "economic-wales",
   "metadata": {},
   "source": [
    "### Basic Stats"
   ]
  },
  {
   "cell_type": "code",
   "execution_count": 18,
   "id": "empirical-andrew",
   "metadata": {},
   "outputs": [
    {
     "name": "stdout",
     "output_type": "stream",
     "text": [
      "Oldest Reported Age -  91\n",
      "Yongest Reported Age -  1\n"
     ]
    },
    {
     "name": "stderr",
     "output_type": "stream",
     "text": [
      "/Users/rohan/opt/anaconda3/lib/python3.8/site-packages/seaborn/distributions.py:2619: FutureWarning: `distplot` is a deprecated function and will be removed in a future version. Please adapt your code to use either `displot` (a figure-level function with similar flexibility) or `histplot` (an axes-level function for histograms).\n",
      "  warnings.warn(msg, FutureWarning)\n"
     ]
    },
    {
     "data": {
      "text/plain": [
       "<AxesSubplot:title={'center':'Age Distribution'}>"
      ]
     },
     "execution_count": 18,
     "metadata": {},
     "output_type": "execute_result"
    },
    {
     "data": {
      "image/png": "[encoded data removed]",
      "text/plain": [
       "<Figure size 720x360 with 1 Axes>"
      ]
     },
     "metadata": {},
     "output_type": "display_data"
    }
   ],
   "source": [
    "# AGE Distribution\n",
    "n_metadf['Patient Age']\n",
    "print('Oldest Reported Age - ', metadf['Patient Age'].max())\n",
    "print('Yongest Reported Age - ', metadf['Patient Age'].min())\n",
    "# Age distribution\n",
    "plt.figure(figsize=(10,5))\n",
    "plt.title('Age Distribution')\n",
    "sns.distplot(x=metadf['Patient Age'],kde=False,bins=25, color='dodgerblue',hist_kws=dict(edgecolor=\"k\", linewidth=2))"
   ]
  },
  {
   "cell_type": "code",
   "execution_count": 19,
   "id": "adequate-appeal",
   "metadata": {},
   "outputs": [
    {
     "data": {
      "text/plain": [
       "Text(0.5, 1.0, 'Gender Distribution')"
      ]
     },
     "execution_count": 19,
     "metadata": {},
     "output_type": "execute_result"
    },
    {
     "data": {
      "image/png": "[encoded data removed]",
      "text/plain": [
       "<Figure size 360x504 with 1 Axes>"
      ]
     },
     "metadata": {},
     "output_type": "display_data"
    }
   ],
   "source": [
    "plt.figure(figsize=(5,7))\n",
    "sns.countplot(x='Patient Sex', data=n_metadf)\n",
    "plt.title('Gender Distribution')"
   ]
  },
  {
   "cell_type": "code",
   "execution_count": null,
   "id": "comic-filename",
   "metadata": {},
   "outputs": [],
   "source": []
  }
 ],
 "metadata": {
  "kernelspec": {
   "display_name": "Python 3",
   "language": "python",
   "name": "python3"
  },
  "language_info": {
   "codemirror_mode": {
    "name": "ipython",
    "version": 3
   },
   "file_extension": ".py",
   "mimetype": "text/x-python",
   "name": "python",
   "nbconvert_exporter": "python",
   "pygments_lexer": "ipython3",
   "version": "3.8.5"
  }
 },
 "nbformat": 4,
 "nbformat_minor": 5
}
